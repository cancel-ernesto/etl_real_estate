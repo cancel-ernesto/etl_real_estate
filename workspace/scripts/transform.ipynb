{
 "cells": [
  {
   "cell_type": "code",
   "execution_count": null,
   "metadata": {},
   "outputs": [],
   "source": [
    "# import libraries\n",
    "import os\n",
    "import csv\n",
    "from datetime import datetime"
   ]
  },
  {
   "cell_type": "code",
   "execution_count": null,
   "metadata": {},
   "outputs": [],
   "source": [
    "from common.tables import PprRawAll\n",
    "from common.base import session\n",
    "from sqlalquemy import text"
   ]
  },
  {
   "cell_type": "code",
   "execution_count": null,
   "metadata": {},
   "outputs": [],
   "source": [
    "# Settings\n",
    "base_path = os.path.abspath(__file__ + \"/../../\")"
   ]
  },
  {
   "cell_type": "code",
   "execution_count": null,
   "metadata": {},
   "outputs": [],
   "source": [
    "# START - Paths for new February 2021 data available"
   ]
  },
  {
   "cell_type": "code",
   "execution_count": null,
   "metadata": {},
   "outputs": [],
   "source": [
    "# Raw path where we want to extract the new CSV data\n",
    "raw_path = f\"{base_path}/data/raw/downloaded_at=2021-02-01/ppr-all.csv\""
   ]
  },
  {
   "cell_type": "code",
   "execution_count": null,
   "metadata": {},
   "outputs": [],
   "source": [
    "# END - Paths for new February 2021 data available"
   ]
  },
  {
   "cell_type": "code",
   "execution_count": null,
   "metadata": {},
   "outputs": [],
   "source": [
    "def transform_case(input_string):\n",
    "    \"\"\"\n",
    "    Lowercase string fields\n",
    "    \"\"\"\n",
    "    return input_string.lower()"
   ]
  },
  {
   "cell_type": "code",
   "execution_count": null,
   "metadata": {},
   "outputs": [],
   "source": [
    "def update_date_of_sale(date_input):\n",
    "    \"\"\"\n",
    "    Update date format from DD/MM/YYYY to YYYY-MM-DD\n",
    "    \"\"\"\n",
    "    current_format = datetime.strptime(date_input, \"%d/%m/%Y\")\n",
    "    new_format = current_format.strftime(\"%Y-%m-%d\")\n",
    "    return new_format"
   ]
  },
  {
   "cell_type": "code",
   "execution_count": null,
   "metadata": {},
   "outputs": [],
   "source": [
    "def update_description(description_input):\n",
    "    \"\"\"\n",
    "    Simplify the description field for potentially future analysis, just return:\n",
    "    - \"new\" if string contains \"new\" substring\n",
    "    - \"second-hand\" if a string contains \"second-hand\" substring\n",
    "    \"\"\"\n",
    "    description_input = transform_case(description_input)\n",
    "    if \"new\" in description_input:\n",
    "        return \"new\"\n",
    "    elif \"second-hand\" in description_input:\n",
    "        return \"second-hand\"\n",
    "    return description_input"
   ]
  },
  {
   "cell_type": "code",
   "execution_count": null,
   "metadata": {},
   "outputs": [],
   "source": [
    "def update_price(price_input):\n",
    "    \"\"\"\n",
    "    Return price as integer by removing:\n",
    "    - \"€\" symbol\n",
    "    - \",\" to convert the number into float first (e.g. from \"€100,000.00\" to \"100000.00\")\n",
    "    \"\"\"\n",
    "    price_input = price_input.replace(\"€\", \"\")\n",
    "    price_input = float(price_input.replace(\",\", \"\"))\n",
    "    return int(price_input)"
   ]
  },
  {
   "cell_type": "code",
   "execution_count": null,
   "metadata": {},
   "outputs": [],
   "source": [
    "def truncate_table():\n",
    "    \"\"\"\n",
    "    Ensure that \"ppr_raw_all\" table is always in empty state before running any transformations.\n",
    "    And primary key (id) restarts from 1.\n",
    "    \"\"\"\n",
    "    session.execute(text(\"TRUNCATE TABLE ppr_raw_all;ALTER SEQUENCE ppr_raw_all_id_seq RESTART;\")\n",
    "    )\n",
    "    session.commit()"
   ]
  },
  {
   "cell_type": "code",
   "execution_count": null,
   "metadata": {},
   "outputs": [],
   "source": [
    "def transform_new_data():\n",
    "    \"\"\"\n",
    "    Apply all transformations for each row in the .csv file before saving it into database\n",
    "    \"\"\"\n",
    "    with open(raw_path, mode=\"r\", encoding=\"windows-1252\") as csv_file:\n",
    "        # Read the new CSV snapshot ready to be processed\n",
    "        reader = csv.DictReader(csv_file)\n",
    "        #Initialize an empty list for our PprRawAll objects\n",
    "        ppr_raw_objects = []\n",
    "        for row in reader:\n",
    "            #Apply transformations and save as PprRawAll object\n",
    "            ppr_raw_objects.append(\n",
    "                PprRawAll(\n",
    "                    date_of_sale=update_date_of_sale(row[\"date_of_sale\"]),\n",
    "                    address=transform_case(row[\"address\"]),\n",
    "                    postal_code=transform_case(row[\"postal_code\"]),\n",
    "                    county=transform_case(row[\"county\"]),\n",
    "                    price=update_price(row[\"price\"]),\n",
    "                    description=update_description(row[\"description\"]),\n",
    "                ) \n",
    "            )\n",
    "        #Save all new processed objects and commit\n",
    "        session.bulk_save_objects(ppr_raw_objects)\n",
    "        session.commit()\n",
    "\n",
    "        "
   ]
  }
 ],
 "metadata": {
  "language_info": {
   "name": "python"
  },
  "orig_nbformat": 4
 },
 "nbformat": 4,
 "nbformat_minor": 2
}
