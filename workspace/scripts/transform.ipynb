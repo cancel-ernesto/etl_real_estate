{
 "cells": [
  {
   "cell_type": "code",
   "execution_count": null,
   "metadata": {},
   "outputs": [],
   "source": [
    "# import libraries\n",
    "import os\n",
    "import csv\n",
    "from datetime import datetime"
   ]
  },
  {
   "cell_type": "code",
   "execution_count": null,
   "metadata": {},
   "outputs": [],
   "source": [
    "from common.tables import PprRawAll\n",
    "from common.base import session\n",
    "from sqlalquemy import text"
   ]
  },
  {
   "cell_type": "code",
   "execution_count": null,
   "metadata": {},
   "outputs": [],
   "source": [
    "# Settings\n",
    "base_path = os.path.abspath(__file__ + \"/../../\")"
   ]
  },
  {
   "cell_type": "code",
   "execution_count": null,
   "metadata": {},
   "outputs": [],
   "source": [
    "# START - Paths for new February 2021 data available"
   ]
  },
  {
   "cell_type": "code",
   "execution_count": null,
   "metadata": {},
   "outputs": [],
   "source": [
    "# Raw path where we want to extract the new CSV data\n",
    "raw_path = f\"{base_path}/data/raw/downloaded_at=2021-02-01/ppr-all.csv\""
   ]
  },
  {
   "cell_type": "code",
   "execution_count": null,
   "metadata": {},
   "outputs": [],
   "source": [
    "# END - Paths for new February 2021 data available"
   ]
  },
  {
   "cell_type": "code",
   "execution_count": null,
   "metadata": {},
   "outputs": [],
   "source": [
    "def transform_case(input_string):\n",
    "    \"\"\"\n",
    "    Lowercase string fields\n",
    "    \"\"\"\n",
    "    return input_string.lower()"
   ]
  },
  {
   "cell_type": "code",
   "execution_count": null,
   "metadata": {},
   "outputs": [],
   "source": [
    "def update_date_of_sale(date_input):\n",
    "    \"\"\"\n",
    "    Update date format from DD/MM/YYYY to YYYY-MM-DD\n",
    "    \"\"\"\n",
    "    current_format = datetime.strptime(date_input, \"%d/%m/%Y\")\n",
    "    new_format = current_format.strftime(\"%Y-%m-%d\")\n",
    "    return new_format"
   ]
  }
 ],
 "metadata": {
  "language_info": {
   "name": "python"
  },
  "orig_nbformat": 4
 },
 "nbformat": 4,
 "nbformat_minor": 2
}
